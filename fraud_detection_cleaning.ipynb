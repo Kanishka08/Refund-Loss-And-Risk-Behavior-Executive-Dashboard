{
 "cells": [
  {
   "cell_type": "code",
   "execution_count": 1,
   "id": "a42e8941-8cf3-4422-afe0-090fe3daf8b4",
   "metadata": {},
   "outputs": [],
   "source": [
    "import pandas as pd"
   ]
  },
  {
   "cell_type": "code",
   "execution_count": 2,
   "id": "f27669c7-bd80-42b9-8eb6-4bdaf48acf0e",
   "metadata": {},
   "outputs": [
    {
     "name": "stderr",
     "output_type": "stream",
     "text": [
      "<>:3: SyntaxWarning: invalid escape sequence '\\$'\n",
      "<>:3: SyntaxWarning: invalid escape sequence '\\$'\n",
      "C:\\Users\\Subho\\AppData\\Local\\Temp\\ipykernel_8464\\134217550.py:3: SyntaxWarning: invalid escape sequence '\\$'\n",
      "  txns['amount'] = txns['amount'].replace('[\\$,]', '', regex=True).astype(float)\n"
     ]
    }
   ],
   "source": [
    "txns = pd.read_csv(\"transactions_data.csv\")\n",
    "txns.rename(columns={\"id\": \"txn_id\", \"date\": \"txn_date\"}, inplace=True)\n",
    "# txns['amount'] = txns['amount'].replace('[\\$,]', '', regex=True).astype(float)\n",
    "txns['txn_date'] = pd.to_datetime(txns['txn_date'], format=\"%d-%m-%Y %H:%M\")  # Adjust if needed\n",
    "txns.to_csv(\"transactions_data_cleaned.csv\", index=False)"
   ]
  },
  {
   "cell_type": "code",
   "execution_count": 3,
   "id": "ccc2fffa-4009-4924-a6e3-475048680bfb",
   "metadata": {},
   "outputs": [
    {
     "name": "stderr",
     "output_type": "stream",
     "text": [
      "<>:3: SyntaxWarning: invalid escape sequence '\\$'\n",
      "<>:3: SyntaxWarning: invalid escape sequence '\\$'\n",
      "C:\\Users\\Subho\\AppData\\Local\\Temp\\ipykernel_8464\\1703915532.py:3: SyntaxWarning: invalid escape sequence '\\$'\n",
      "  cards['credit_limit'] = cards['credit_limit'].replace('[\\$,]', '', regex=True).astype(float)\n"
     ]
    }
   ],
   "source": [
    "cards = pd.read_csv(\"cards_data.csv\")\n",
    "cards.rename(columns={\"id\": \"card_id\"}, inplace=True)\n",
    "cards['credit_limit'] = cards['credit_limit'].replace('[\\$,]', '', regex=True).astype(float)\n",
    "cards.to_csv(\"cards_data_cleaned.csv\", index=False)"
   ]
  },
  {
   "cell_type": "code",
   "execution_count": 4,
   "id": "cabc9f30-100f-4e60-9a20-f836039d8d9a",
   "metadata": {},
   "outputs": [
    {
     "name": "stderr",
     "output_type": "stream",
     "text": [
      "<>:3: SyntaxWarning: invalid escape sequence '\\$'\n",
      "<>:4: SyntaxWarning: invalid escape sequence '\\$'\n",
      "<>:5: SyntaxWarning: invalid escape sequence '\\$'\n",
      "<>:3: SyntaxWarning: invalid escape sequence '\\$'\n",
      "<>:4: SyntaxWarning: invalid escape sequence '\\$'\n",
      "<>:5: SyntaxWarning: invalid escape sequence '\\$'\n",
      "C:\\Users\\Subho\\AppData\\Local\\Temp\\ipykernel_8464\\3335236191.py:3: SyntaxWarning: invalid escape sequence '\\$'\n",
      "  users['per_capita_income'] = users['per_capita_income'].replace('[\\$,]', '', regex=True).astype(float)\n",
      "C:\\Users\\Subho\\AppData\\Local\\Temp\\ipykernel_8464\\3335236191.py:4: SyntaxWarning: invalid escape sequence '\\$'\n",
      "  users['yearly_income'] = users['yearly_income'].replace('[\\$,]', '', regex=True).astype(float)\n",
      "C:\\Users\\Subho\\AppData\\Local\\Temp\\ipykernel_8464\\3335236191.py:5: SyntaxWarning: invalid escape sequence '\\$'\n",
      "  users['total_debt'] = users['total_debt'].replace('[\\$,]', '', regex=True).astype(float)\n"
     ]
    }
   ],
   "source": [
    "users = pd.read_csv(\"users_data.csv\")\n",
    "users.rename(columns={\"id\": \"client_id\"}, inplace=True)\n",
    "users['per_capita_income'] = users['per_capita_income'].replace('[\\$,]', '', regex=True).astype(float)\n",
    "users['yearly_income'] = users['yearly_income'].replace('[\\$,]', '', regex=True).astype(float)\n",
    "users['total_debt'] = users['total_debt'].replace('[\\$,]', '', regex=True).astype(float)\n",
    "users.to_csv(\"users_data_cleaned.csv\", index=False)"
   ]
  },
  {
   "cell_type": "code",
   "execution_count": null,
   "id": "4784f88d-a7a0-4d4d-86b1-8118e6af58ce",
   "metadata": {},
   "outputs": [],
   "source": []
  }
 ],
 "metadata": {
  "kernelspec": {
   "display_name": "Python 3 (ipykernel)",
   "language": "python",
   "name": "python3"
  },
  "language_info": {
   "codemirror_mode": {
    "name": "ipython",
    "version": 3
   },
   "file_extension": ".py",
   "mimetype": "text/x-python",
   "name": "python",
   "nbconvert_exporter": "python",
   "pygments_lexer": "ipython3",
   "version": "3.12.7"
  }
 },
 "nbformat": 4,
 "nbformat_minor": 5
}
